{
 "cells": [
  {
   "cell_type": "markdown",
   "metadata": {},
   "source": [
    "<p style=\"text-align:center\">\n",
    "    <a href=\"https://skills.network/?utm_medium=Exinfluencer&utm_source=Exinfluencer&utm_content=000026UJ&utm_term=10006555&utm_id=NA-SkillsNetwork-Channel-SkillsNetworkCoursesIBMDA0321ENSkillsNetwork928-2022-01-01\" target=\"_blank\">\n",
    "    <img src=\"https://cf-courses-data.s3.us.cloud-object-storage.appdomain.cloud/assets/logos/SN_web_lightmode.png\" width=\"200\" alt=\"Skills Network Logo\"  />\n",
    "    </a>\n",
    "</p>\n"
   ]
  },
  {
   "cell_type": "markdown",
   "metadata": {},
   "source": [
    "# **Hands-on Lab : Web Scraping**\n"
   ]
  },
  {
   "cell_type": "markdown",
   "metadata": {},
   "source": [
    "Estimated time needed: **30 to 45** minutes\n"
   ]
  },
  {
   "cell_type": "markdown",
   "metadata": {},
   "source": [
    "## Objectives\n"
   ]
  },
  {
   "cell_type": "markdown",
   "metadata": {},
   "source": [
    "In this lab you will perform the following:\n"
   ]
  },
  {
   "cell_type": "markdown",
   "metadata": {},
   "source": [
    "* Extract information from a given web site \n",
    "* Write the scraped data into a csv file.\n"
   ]
  },
  {
   "cell_type": "markdown",
   "metadata": {},
   "source": [
    "## Extract information from the given web site\n",
    "You will extract the data from the below web site: <br> \n"
   ]
  },
  {
   "cell_type": "code",
   "execution_count": 2,
   "metadata": {},
   "outputs": [],
   "source": [
    "#this url contains the data you need to scrape\n",
    "url = \"https://cf-courses-data.s3.us.cloud-object-storage.appdomain.cloud/IBM-DA0321EN-SkillsNetwork/labs/datasets/Programming_Languages.html\""
   ]
  },
  {
   "cell_type": "markdown",
   "metadata": {},
   "source": [
    "The data you need to scrape is the **name of the programming language** and **average annual salary**.<br> It is a good idea to open the url in your web broswer and study the contents of the web page before you start to scrape.\n"
   ]
  },
  {
   "cell_type": "markdown",
   "metadata": {},
   "source": [
    "Import the required libraries\n"
   ]
  },
  {
   "cell_type": "code",
   "execution_count": 75,
   "metadata": {},
   "outputs": [],
   "source": [
    "from bs4 import BeautifulSoup as bs\n",
    "import pandas as pd \n",
    "import numpy as np \n",
    "import requests\n"
   ]
  },
  {
   "cell_type": "markdown",
   "metadata": {},
   "source": [
    "Download the webpage at the url\n"
   ]
  },
  {
   "cell_type": "code",
   "execution_count": 76,
   "metadata": {},
   "outputs": [],
   "source": [
    "#your code goes here\n",
    "html=requests.get(url)"
   ]
  },
  {
   "cell_type": "code",
   "execution_count": 77,
   "metadata": {},
   "outputs": [
    {
     "data": {
      "text/plain": [
       "b'<!doctype html>\\n<html lang=\"en\">\\n<head>\\n<title>\\nSalary survey results of programming languages\\n</title>\\n<style>\\ntable, th, td {\\n  border: 1px solid black;\\n}\\n</style>\\n</head>\\n\\n<body>\\n<hr />\\n<h2>Popular Programming Languages</h2>\\n<hr />\\n<p>Finding out which is the best language is a tough task. A programming language is created to solve a specific problem. A language which is good for task A may not be able to properly handle task B. Comparing programming language is never easy. What we can do, however, is find which is popular in the industry.</p>\\n<p>There are many ways to find the popularity of a programming languages. Counting the number of google searchs for each language is a simple way to find the popularity. GitHub and StackOverflow also can give some good pointers.</p>\\n<p>Salary surveys are a way to find out the programmings languages that are most in demand in the industry. Below table is the result of one such survey. When using any survey keep in mind that the results vary year on year.</p>\\n<hr />\\n<table>\\n<tbody>\\n<tr>\\n<td>No.</td>\\n<td>Language</td>\\n<td>Created By</td>\\n<td>Average Annual Salary</td>\\n<td>Learning Difficulty</td>\\n</tr>\\n<tr>\\n<td>1</td>\\n<td>Python</td>\\n<td>Guido van Rossum</td>\\n<td>$114,383</td>\\n<td>Easy</td>\\n</tr>\\n<tr>\\n<td>2</td>\\n<td>Java</td>\\n<td>James Gosling</td>\\n<td>$101,013</td>\\n<td>Easy</td>\\n</tr>\\n<tr>\\n<td>3</td>\\n<td>R</td>\\n<td>Robert Gentleman, Ross Ihaka</td>\\n<td>$92,037</td>\\n<td>Hard</td>\\n</tr>\\n<tr>\\n<td>4</td>\\n<td>Javascript</td>\\n<td>Netscape</td>\\n<td>$110,981</td>\\n<td>Easy</td>\\n</tr>\\n<tr>\\n<td>5</td>\\n<td>Swift</td>\\n<td>Apple</td>\\n<td>$130,801</td>\\n<td>Easy</td>\\n</tr>\\n<tr>\\n<td>6</td>\\n<td>C++</td>\\n<td>Bjarne Stroustrup</td>\\n<td>$113,865</td>\\n<td>Hard</td>\\n</tr>\\n<tr>\\n<td>7</td>\\n<td>C#</td>\\n<td>Microsoft</td>\\n<td>$88,726</td>\\n<td>Hard</td>\\n</tr>\\n<tr>\\n<td>8</td>\\n<td>PHP</td>\\n<td>Rasmus Lerdorf</td>\\n<td>$84,727</td>\\n<td>Easy</td>\\n</tr>\\n<tr>\\n<td>9</td>\\n<td>SQL</td>\\n<td>Donald D. Chamberlin, Raymond F. Boyce.</td>\\n<td>$84,793</td>\\n<td>Easy</td>\\n</tr>\\n<tr>\\n<td>10</td>\\n<td>Go</td>\\n<td>Robert Griesemer, Ken Thompson, Rob Pike.</td>\\n<td>$94,082</td>\\n<td>Difficult</td>\\n</tr>\\n</tbody>\\n</table>\\n<hr />\\n</body>\\n</html>'"
      ]
     },
     "execution_count": 77,
     "metadata": {},
     "output_type": "execute_result"
    }
   ],
   "source": [
    "html.content"
   ]
  },
  {
   "cell_type": "markdown",
   "metadata": {},
   "source": [
    "Create a soup object\n"
   ]
  },
  {
   "cell_type": "code",
   "execution_count": 78,
   "metadata": {},
   "outputs": [
    {
     "data": {
      "text/plain": [
       "<!DOCTYPE html>\n",
       "\n",
       "<html lang=\"en\">\n",
       "<head>\n",
       "<title>\n",
       "Salary survey results of programming languages\n",
       "</title>\n",
       "<style>\n",
       "table, th, td {\n",
       "  border: 1px solid black;\n",
       "}\n",
       "</style>\n",
       "</head>\n",
       "<body>\n",
       "<hr/>\n",
       "<h2>Popular Programming Languages</h2>\n",
       "<hr/>\n",
       "<p>Finding out which is the best language is a tough task. A programming language is created to solve a specific problem. A language which is good for task A may not be able to properly handle task B. Comparing programming language is never easy. What we can do, however, is find which is popular in the industry.</p>\n",
       "<p>There are many ways to find the popularity of a programming languages. Counting the number of google searchs for each language is a simple way to find the popularity. GitHub and StackOverflow also can give some good pointers.</p>\n",
       "<p>Salary surveys are a way to find out the programmings languages that are most in demand in the industry. Below table is the result of one such survey. When using any survey keep in mind that the results vary year on year.</p>\n",
       "<hr/>\n",
       "<table>\n",
       "<tbody>\n",
       "<tr>\n",
       "<td>No.</td>\n",
       "<td>Language</td>\n",
       "<td>Created By</td>\n",
       "<td>Average Annual Salary</td>\n",
       "<td>Learning Difficulty</td>\n",
       "</tr>\n",
       "<tr>\n",
       "<td>1</td>\n",
       "<td>Python</td>\n",
       "<td>Guido van Rossum</td>\n",
       "<td>$114,383</td>\n",
       "<td>Easy</td>\n",
       "</tr>\n",
       "<tr>\n",
       "<td>2</td>\n",
       "<td>Java</td>\n",
       "<td>James Gosling</td>\n",
       "<td>$101,013</td>\n",
       "<td>Easy</td>\n",
       "</tr>\n",
       "<tr>\n",
       "<td>3</td>\n",
       "<td>R</td>\n",
       "<td>Robert Gentleman, Ross Ihaka</td>\n",
       "<td>$92,037</td>\n",
       "<td>Hard</td>\n",
       "</tr>\n",
       "<tr>\n",
       "<td>4</td>\n",
       "<td>Javascript</td>\n",
       "<td>Netscape</td>\n",
       "<td>$110,981</td>\n",
       "<td>Easy</td>\n",
       "</tr>\n",
       "<tr>\n",
       "<td>5</td>\n",
       "<td>Swift</td>\n",
       "<td>Apple</td>\n",
       "<td>$130,801</td>\n",
       "<td>Easy</td>\n",
       "</tr>\n",
       "<tr>\n",
       "<td>6</td>\n",
       "<td>C++</td>\n",
       "<td>Bjarne Stroustrup</td>\n",
       "<td>$113,865</td>\n",
       "<td>Hard</td>\n",
       "</tr>\n",
       "<tr>\n",
       "<td>7</td>\n",
       "<td>C#</td>\n",
       "<td>Microsoft</td>\n",
       "<td>$88,726</td>\n",
       "<td>Hard</td>\n",
       "</tr>\n",
       "<tr>\n",
       "<td>8</td>\n",
       "<td>PHP</td>\n",
       "<td>Rasmus Lerdorf</td>\n",
       "<td>$84,727</td>\n",
       "<td>Easy</td>\n",
       "</tr>\n",
       "<tr>\n",
       "<td>9</td>\n",
       "<td>SQL</td>\n",
       "<td>Donald D. Chamberlin, Raymond F. Boyce.</td>\n",
       "<td>$84,793</td>\n",
       "<td>Easy</td>\n",
       "</tr>\n",
       "<tr>\n",
       "<td>10</td>\n",
       "<td>Go</td>\n",
       "<td>Robert Griesemer, Ken Thompson, Rob Pike.</td>\n",
       "<td>$94,082</td>\n",
       "<td>Difficult</td>\n",
       "</tr>\n",
       "</tbody>\n",
       "</table>\n",
       "<hr/>\n",
       "</body>\n",
       "</html>"
      ]
     },
     "execution_count": 78,
     "metadata": {},
     "output_type": "execute_result"
    }
   ],
   "source": [
    "#your code goes here\n",
    "soup = BeautifulSoup(html.content, 'html.parser')\n",
    "soup"
   ]
  },
  {
   "cell_type": "markdown",
   "metadata": {},
   "source": [
    "Scrape the `Language name` and `annual average salary`.\n"
   ]
  },
  {
   "cell_type": "code",
   "execution_count": 65,
   "metadata": {},
   "outputs": [
    {
     "data": {
      "text/plain": [
       "[<tr>\n",
       " <td>No.</td>\n",
       " <td>Language</td>\n",
       " <td>Created By</td>\n",
       " <td>Average Annual Salary</td>\n",
       " <td>Learning Difficulty</td>\n",
       " </tr>,\n",
       " <tr>\n",
       " <td>1</td>\n",
       " <td>Python</td>\n",
       " <td>Guido van Rossum</td>\n",
       " <td>$114,383</td>\n",
       " <td>Easy</td>\n",
       " </tr>,\n",
       " <tr>\n",
       " <td>2</td>\n",
       " <td>Java</td>\n",
       " <td>James Gosling</td>\n",
       " <td>$101,013</td>\n",
       " <td>Easy</td>\n",
       " </tr>,\n",
       " <tr>\n",
       " <td>3</td>\n",
       " <td>R</td>\n",
       " <td>Robert Gentleman, Ross Ihaka</td>\n",
       " <td>$92,037</td>\n",
       " <td>Hard</td>\n",
       " </tr>,\n",
       " <tr>\n",
       " <td>4</td>\n",
       " <td>Javascript</td>\n",
       " <td>Netscape</td>\n",
       " <td>$110,981</td>\n",
       " <td>Easy</td>\n",
       " </tr>,\n",
       " <tr>\n",
       " <td>5</td>\n",
       " <td>Swift</td>\n",
       " <td>Apple</td>\n",
       " <td>$130,801</td>\n",
       " <td>Easy</td>\n",
       " </tr>,\n",
       " <tr>\n",
       " <td>6</td>\n",
       " <td>C++</td>\n",
       " <td>Bjarne Stroustrup</td>\n",
       " <td>$113,865</td>\n",
       " <td>Hard</td>\n",
       " </tr>,\n",
       " <tr>\n",
       " <td>7</td>\n",
       " <td>C#</td>\n",
       " <td>Microsoft</td>\n",
       " <td>$88,726</td>\n",
       " <td>Hard</td>\n",
       " </tr>,\n",
       " <tr>\n",
       " <td>8</td>\n",
       " <td>PHP</td>\n",
       " <td>Rasmus Lerdorf</td>\n",
       " <td>$84,727</td>\n",
       " <td>Easy</td>\n",
       " </tr>,\n",
       " <tr>\n",
       " <td>9</td>\n",
       " <td>SQL</td>\n",
       " <td>Donald D. Chamberlin, Raymond F. Boyce.</td>\n",
       " <td>$84,793</td>\n",
       " <td>Easy</td>\n",
       " </tr>,\n",
       " <tr>\n",
       " <td>10</td>\n",
       " <td>Go</td>\n",
       " <td>Robert Griesemer, Ken Thompson, Rob Pike.</td>\n",
       " <td>$94,082</td>\n",
       " <td>Difficult</td>\n",
       " </tr>]"
      ]
     },
     "execution_count": 65,
     "metadata": {},
     "output_type": "execute_result"
    }
   ],
   "source": [
    "homework=soup.find_all(name=\"tr\")\n",
    "homework\n"
   ]
  },
  {
   "cell_type": "code",
   "execution_count": 61,
   "metadata": {},
   "outputs": [
    {
     "data": {
      "text/plain": [
       "<tr>\n",
       "<td>1</td>\n",
       "<td>Python</td>\n",
       "<td>Guido van Rossum</td>\n",
       "<td>$114,383</td>\n",
       "<td>Easy</td>\n",
       "</tr>"
      ]
     },
     "execution_count": 61,
     "metadata": {},
     "output_type": "execute_result"
    }
   ],
   "source": [
    "cell = soup.find_all(name= \"tr\")[1]\n",
    "cell\n"
   ]
  },
  {
   "cell_type": "code",
   "execution_count": 64,
   "metadata": {},
   "outputs": [
    {
     "data": {
      "text/plain": [
       "[]"
      ]
     },
     "execution_count": 64,
     "metadata": {},
     "output_type": "execute_result"
    }
   ],
   "source": [
    "do = soup.find_all (name = \"Language\")\n",
    "do"
   ]
  },
  {
   "cell_type": "markdown",
   "metadata": {},
   "source": [
    "Save the scrapped data into a file named *popular-languages.csv*\n"
   ]
  },
  {
   "cell_type": "code",
   "execution_count": 67,
   "metadata": {},
   "outputs": [
    {
     "data": {
      "text/html": [
       "<div>\n",
       "<style scoped>\n",
       "    .dataframe tbody tr th:only-of-type {\n",
       "        vertical-align: middle;\n",
       "    }\n",
       "\n",
       "    .dataframe tbody tr th {\n",
       "        vertical-align: top;\n",
       "    }\n",
       "\n",
       "    .dataframe thead th {\n",
       "        text-align: right;\n",
       "    }\n",
       "</style>\n",
       "<table border=\"1\" class=\"dataframe\">\n",
       "  <thead>\n",
       "    <tr style=\"text-align: right;\">\n",
       "      <th></th>\n",
       "      <th>0</th>\n",
       "      <th>1</th>\n",
       "      <th>2</th>\n",
       "      <th>3</th>\n",
       "      <th>4</th>\n",
       "      <th>5</th>\n",
       "      <th>6</th>\n",
       "      <th>7</th>\n",
       "      <th>8</th>\n",
       "      <th>9</th>\n",
       "      <th>10</th>\n",
       "    </tr>\n",
       "  </thead>\n",
       "  <tbody>\n",
       "    <tr>\n",
       "      <th>0</th>\n",
       "      <td>\\n</td>\n",
       "      <td>[No.]</td>\n",
       "      <td>\\n</td>\n",
       "      <td>[Language]</td>\n",
       "      <td>\\n</td>\n",
       "      <td>[Created By]</td>\n",
       "      <td>\\n</td>\n",
       "      <td>[Average Annual Salary]</td>\n",
       "      <td>\\n</td>\n",
       "      <td>[Learning Difficulty]</td>\n",
       "      <td>\\n</td>\n",
       "    </tr>\n",
       "    <tr>\n",
       "      <th>1</th>\n",
       "      <td>\\n</td>\n",
       "      <td>[1]</td>\n",
       "      <td>\\n</td>\n",
       "      <td>[Python]</td>\n",
       "      <td>\\n</td>\n",
       "      <td>[Guido van Rossum]</td>\n",
       "      <td>\\n</td>\n",
       "      <td>[$114,383]</td>\n",
       "      <td>\\n</td>\n",
       "      <td>[Easy]</td>\n",
       "      <td>\\n</td>\n",
       "    </tr>\n",
       "    <tr>\n",
       "      <th>2</th>\n",
       "      <td>\\n</td>\n",
       "      <td>[2]</td>\n",
       "      <td>\\n</td>\n",
       "      <td>[Java]</td>\n",
       "      <td>\\n</td>\n",
       "      <td>[James Gosling]</td>\n",
       "      <td>\\n</td>\n",
       "      <td>[$101,013]</td>\n",
       "      <td>\\n</td>\n",
       "      <td>[Easy]</td>\n",
       "      <td>\\n</td>\n",
       "    </tr>\n",
       "    <tr>\n",
       "      <th>3</th>\n",
       "      <td>\\n</td>\n",
       "      <td>[3]</td>\n",
       "      <td>\\n</td>\n",
       "      <td>[R]</td>\n",
       "      <td>\\n</td>\n",
       "      <td>[Robert Gentleman, Ross Ihaka]</td>\n",
       "      <td>\\n</td>\n",
       "      <td>[$92,037]</td>\n",
       "      <td>\\n</td>\n",
       "      <td>[Hard]</td>\n",
       "      <td>\\n</td>\n",
       "    </tr>\n",
       "    <tr>\n",
       "      <th>4</th>\n",
       "      <td>\\n</td>\n",
       "      <td>[4]</td>\n",
       "      <td>\\n</td>\n",
       "      <td>[Javascript]</td>\n",
       "      <td>\\n</td>\n",
       "      <td>[Netscape]</td>\n",
       "      <td>\\n</td>\n",
       "      <td>[$110,981]</td>\n",
       "      <td>\\n</td>\n",
       "      <td>[Easy]</td>\n",
       "      <td>\\n</td>\n",
       "    </tr>\n",
       "    <tr>\n",
       "      <th>5</th>\n",
       "      <td>\\n</td>\n",
       "      <td>[5]</td>\n",
       "      <td>\\n</td>\n",
       "      <td>[Swift]</td>\n",
       "      <td>\\n</td>\n",
       "      <td>[Apple]</td>\n",
       "      <td>\\n</td>\n",
       "      <td>[$130,801]</td>\n",
       "      <td>\\n</td>\n",
       "      <td>[Easy]</td>\n",
       "      <td>\\n</td>\n",
       "    </tr>\n",
       "    <tr>\n",
       "      <th>6</th>\n",
       "      <td>\\n</td>\n",
       "      <td>[6]</td>\n",
       "      <td>\\n</td>\n",
       "      <td>[C++]</td>\n",
       "      <td>\\n</td>\n",
       "      <td>[Bjarne Stroustrup]</td>\n",
       "      <td>\\n</td>\n",
       "      <td>[$113,865]</td>\n",
       "      <td>\\n</td>\n",
       "      <td>[Hard]</td>\n",
       "      <td>\\n</td>\n",
       "    </tr>\n",
       "    <tr>\n",
       "      <th>7</th>\n",
       "      <td>\\n</td>\n",
       "      <td>[7]</td>\n",
       "      <td>\\n</td>\n",
       "      <td>[C#]</td>\n",
       "      <td>\\n</td>\n",
       "      <td>[Microsoft]</td>\n",
       "      <td>\\n</td>\n",
       "      <td>[$88,726]</td>\n",
       "      <td>\\n</td>\n",
       "      <td>[Hard]</td>\n",
       "      <td>\\n</td>\n",
       "    </tr>\n",
       "    <tr>\n",
       "      <th>8</th>\n",
       "      <td>\\n</td>\n",
       "      <td>[8]</td>\n",
       "      <td>\\n</td>\n",
       "      <td>[PHP]</td>\n",
       "      <td>\\n</td>\n",
       "      <td>[Rasmus Lerdorf]</td>\n",
       "      <td>\\n</td>\n",
       "      <td>[$84,727]</td>\n",
       "      <td>\\n</td>\n",
       "      <td>[Easy]</td>\n",
       "      <td>\\n</td>\n",
       "    </tr>\n",
       "    <tr>\n",
       "      <th>9</th>\n",
       "      <td>\\n</td>\n",
       "      <td>[9]</td>\n",
       "      <td>\\n</td>\n",
       "      <td>[SQL]</td>\n",
       "      <td>\\n</td>\n",
       "      <td>[Donald D. Chamberlin, Raymond F. Boyce.]</td>\n",
       "      <td>\\n</td>\n",
       "      <td>[$84,793]</td>\n",
       "      <td>\\n</td>\n",
       "      <td>[Easy]</td>\n",
       "      <td>\\n</td>\n",
       "    </tr>\n",
       "    <tr>\n",
       "      <th>10</th>\n",
       "      <td>\\n</td>\n",
       "      <td>[10]</td>\n",
       "      <td>\\n</td>\n",
       "      <td>[Go]</td>\n",
       "      <td>\\n</td>\n",
       "      <td>[Robert Griesemer, Ken Thompson, Rob Pike.]</td>\n",
       "      <td>\\n</td>\n",
       "      <td>[$94,082]</td>\n",
       "      <td>\\n</td>\n",
       "      <td>[Difficult]</td>\n",
       "      <td>\\n</td>\n",
       "    </tr>\n",
       "  </tbody>\n",
       "</table>\n",
       "</div>"
      ],
      "text/plain": [
       "    0      1   2             3   4   \\\n",
       "0   \\n  [No.]  \\n    [Language]  \\n   \n",
       "1   \\n    [1]  \\n      [Python]  \\n   \n",
       "2   \\n    [2]  \\n        [Java]  \\n   \n",
       "3   \\n    [3]  \\n           [R]  \\n   \n",
       "4   \\n    [4]  \\n  [Javascript]  \\n   \n",
       "5   \\n    [5]  \\n       [Swift]  \\n   \n",
       "6   \\n    [6]  \\n         [C++]  \\n   \n",
       "7   \\n    [7]  \\n          [C#]  \\n   \n",
       "8   \\n    [8]  \\n         [PHP]  \\n   \n",
       "9   \\n    [9]  \\n         [SQL]  \\n   \n",
       "10  \\n   [10]  \\n          [Go]  \\n   \n",
       "\n",
       "                                             5   6                        7   \\\n",
       "0                                  [Created By]  \\n  [Average Annual Salary]   \n",
       "1                            [Guido van Rossum]  \\n               [$114,383]   \n",
       "2                               [James Gosling]  \\n               [$101,013]   \n",
       "3                [Robert Gentleman, Ross Ihaka]  \\n                [$92,037]   \n",
       "4                                    [Netscape]  \\n               [$110,981]   \n",
       "5                                       [Apple]  \\n               [$130,801]   \n",
       "6                           [Bjarne Stroustrup]  \\n               [$113,865]   \n",
       "7                                   [Microsoft]  \\n                [$88,726]   \n",
       "8                              [Rasmus Lerdorf]  \\n                [$84,727]   \n",
       "9     [Donald D. Chamberlin, Raymond F. Boyce.]  \\n                [$84,793]   \n",
       "10  [Robert Griesemer, Ken Thompson, Rob Pike.]  \\n                [$94,082]   \n",
       "\n",
       "    8                      9   10  \n",
       "0   \\n  [Learning Difficulty]  \\n  \n",
       "1   \\n                 [Easy]  \\n  \n",
       "2   \\n                 [Easy]  \\n  \n",
       "3   \\n                 [Hard]  \\n  \n",
       "4   \\n                 [Easy]  \\n  \n",
       "5   \\n                 [Easy]  \\n  \n",
       "6   \\n                 [Hard]  \\n  \n",
       "7   \\n                 [Hard]  \\n  \n",
       "8   \\n                 [Easy]  \\n  \n",
       "9   \\n                 [Easy]  \\n  \n",
       "10  \\n            [Difficult]  \\n  "
      ]
     },
     "execution_count": 67,
     "metadata": {},
     "output_type": "execute_result"
    }
   ],
   "source": [
    "# your code goes here\n",
    "df=pd.DataFrame(homework)\n",
    "df"
   ]
  },
  {
   "cell_type": "code",
   "execution_count": 74,
   "metadata": {},
   "outputs": [
    {
     "data": {
      "text/plain": [
       "',0,1,2,3,4,5,6,7,8,9,10\\n0,\"\\n\",<td>No.</td>,\"\\n\",<td>Language</td>,\"\\n\",<td>Created By</td>,\"\\n\",<td>Average Annual Salary</td>,\"\\n\",<td>Learning Difficulty</td>,\"\\n\"\\n1,\"\\n\",<td>1</td>,\"\\n\",<td>Python</td>,\"\\n\",<td>Guido van Rossum</td>,\"\\n\",\"<td>$114,383</td>\",\"\\n\",<td>Easy</td>,\"\\n\"\\n2,\"\\n\",<td>2</td>,\"\\n\",<td>Java</td>,\"\\n\",<td>James Gosling</td>,\"\\n\",\"<td>$101,013</td>\",\"\\n\",<td>Easy</td>,\"\\n\"\\n3,\"\\n\",<td>3</td>,\"\\n\",<td>R</td>,\"\\n\",\"<td>Robert Gentleman, Ross Ihaka</td>\",\"\\n\",\"<td>$92,037</td>\",\"\\n\",<td>Hard</td>,\"\\n\"\\n4,\"\\n\",<td>4</td>,\"\\n\",<td>Javascript</td>,\"\\n\",<td>Netscape</td>,\"\\n\",\"<td>$110,981</td>\",\"\\n\",<td>Easy</td>,\"\\n\"\\n5,\"\\n\",<td>5</td>,\"\\n\",<td>Swift</td>,\"\\n\",<td>Apple</td>,\"\\n\",\"<td>$130,801</td>\",\"\\n\",<td>Easy</td>,\"\\n\"\\n6,\"\\n\",<td>6</td>,\"\\n\",<td>C++</td>,\"\\n\",<td>Bjarne Stroustrup</td>,\"\\n\",\"<td>$113,865</td>\",\"\\n\",<td>Hard</td>,\"\\n\"\\n7,\"\\n\",<td>7</td>,\"\\n\",<td>C#</td>,\"\\n\",<td>Microsoft</td>,\"\\n\",\"<td>$88,726</td>\",\"\\n\",<td>Hard</td>,\"\\n\"\\n8,\"\\n\",<td>8</td>,\"\\n\",<td>PHP</td>,\"\\n\",<td>Rasmus Lerdorf</td>,\"\\n\",\"<td>$84,727</td>\",\"\\n\",<td>Easy</td>,\"\\n\"\\n9,\"\\n\",<td>9</td>,\"\\n\",<td>SQL</td>,\"\\n\",\"<td>Donald D. Chamberlin, Raymond F. Boyce.</td>\",\"\\n\",\"<td>$84,793</td>\",\"\\n\",<td>Easy</td>,\"\\n\"\\n10,\"\\n\",<td>10</td>,\"\\n\",<td>Go</td>,\"\\n\",\"<td>Robert Griesemer, Ken Thompson, Rob Pike.</td>\",\"\\n\",\"<td>$94,082</td>\",\"\\n\",<td>Difficult</td>,\"\\n\"\\n'"
      ]
     },
     "execution_count": 74,
     "metadata": {},
     "output_type": "execute_result"
    }
   ],
   "source": [
    "popular_languages=df.to_csv()\n",
    "popular_languages"
   ]
  },
  {
   "cell_type": "markdown",
   "metadata": {},
   "source": [
    "## Authors\n"
   ]
  },
  {
   "cell_type": "markdown",
   "metadata": {},
   "source": [
    "Ramesh Sannareddy\n"
   ]
  },
  {
   "cell_type": "markdown",
   "metadata": {},
   "source": [
    "### Other Contributors\n"
   ]
  },
  {
   "cell_type": "markdown",
   "metadata": {},
   "source": [
    "Rav Ahuja\n"
   ]
  },
  {
   "cell_type": "markdown",
   "metadata": {},
   "source": [
    "## Change Log\n"
   ]
  },
  {
   "cell_type": "markdown",
   "metadata": {},
   "source": [
    "|  Date (YYYY-MM-DD) |  Version | Changed By  |  Change Description |\n",
    "|---|---|---|---|\n",
    "| 2020-10-17  | 0.1  | Ramesh Sannareddy  |  Created initial version of the lab |\n"
   ]
  },
  {
   "cell_type": "markdown",
   "metadata": {},
   "source": [
    " Copyright &copy; 2020 IBM Corporation. This notebook and its source code are released under the terms of the [MIT License](https://cognitiveclass.ai/mit-license/?utm_medium=Exinfluencer&utm_source=Exinfluencer&utm_content=000026UJ&utm_term=10006555&utm_id=NA-SkillsNetwork-Channel-SkillsNetworkCoursesIBMDA0321ENSkillsNetwork928-2022-01-01).\n"
   ]
  }
 ],
 "metadata": {
  "kernelspec": {
   "display_name": "Python",
   "language": "python",
   "name": "conda-env-python-py"
  },
  "language_info": {
   "codemirror_mode": {
    "name": "ipython",
    "version": 3
   },
   "file_extension": ".py",
   "mimetype": "text/x-python",
   "name": "python",
   "nbconvert_exporter": "python",
   "pygments_lexer": "ipython3",
   "version": "3.7.12"
  }
 },
 "nbformat": 4,
 "nbformat_minor": 4
}
